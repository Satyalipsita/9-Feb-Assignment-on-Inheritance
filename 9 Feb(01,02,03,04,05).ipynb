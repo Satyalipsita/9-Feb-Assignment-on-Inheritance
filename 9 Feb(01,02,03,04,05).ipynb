{
 "cells": [
  {
   "cell_type": "code",
   "execution_count": 1,
   "id": "d536aafe-ec2a-4358-ab45-ed8c24928d09",
   "metadata": {},
   "outputs": [
    {
     "name": "stdout",
     "output_type": "stream",
     "text": [
      "Toyota Camry\n",
      "180\n",
      "25\n"
     ]
    }
   ],
   "source": [
    "#Q-1:\n",
    "class Vehicle:\n",
    "    def __init__(self, name, max_speed, average):\n",
    "        self.name = name\n",
    "        self.max_speed = max_speed\n",
    "        self.average = average\n",
    "car = Vehicle(\"Toyota Camry\", 180, 25)\n",
    "print(car.name)       # Output: Toyota Camry\n",
    "print(car.max_speed)  # Output: 180\n",
    "print(car.average)    # Output: 25\n"
   ]
  },
  {
   "cell_type": "code",
   "execution_count": 2,
   "id": "52bf8576-d897-47d9-a65d-3502b94efa5b",
   "metadata": {},
   "outputs": [
    {
     "name": "stdout",
     "output_type": "stream",
     "text": [
      "The Toyota Camry has a seating capacity of 5.\n"
     ]
    }
   ],
   "source": [
    "#Q-2:\n",
    "class Car(Vehicle):\n",
    "    def seating_capacity(self, capacity):\n",
    "        return f\"The {self.name} has a seating capacity of {capacity}.\"\n",
    "\n",
    "car = Car(\"Toyota Camry\", 180, 25)\n",
    "print(car.seating_capacity(5))\n"
   ]
  },
  {
   "cell_type": "code",
   "execution_count": null,
   "id": "6d0ede69-56c9-463e-be05-753d4eeab53a",
   "metadata": {},
   "outputs": [],
   "source": [
    "#Q-3:Multiple inheritance is a feature in Python where a class \n",
    "can inherit attributes and methods from multiple parent classes.\n",
    "Here's an example code that demonstrates multiple inheritance:\n",
    "\n",
    "\n",
    "class A:\n",
    "    def method_a(self):\n",
    "        print(\"This is method A\")\n",
    "\n",
    "class B:\n",
    "    def method_b(self):\n",
    "        print(\"This is method B\")\n",
    "\n",
    "class C(A, B):\n",
    "    def method_c(self):\n",
    "        print(\"This is method C\")\n",
    "\n",
    "# Creating an instance of class C\n",
    "obj = C()\n",
    "\n",
    "# Calling methods from class A\n",
    "obj.method_a()  # Output: This is method A\n",
    "\n",
    "# Calling methods from class B\n",
    "obj.method_b()  # Output: This is method B\n",
    "\n",
    "# Calling methods from class C\n",
    "obj.method_c()  # Output: This is method C\n"
   ]
  },
  {
   "cell_type": "code",
   "execution_count": null,
   "id": "cbc58516-d9ce-4c08-82fe-ec64363d791d",
   "metadata": {},
   "outputs": [],
   "source": [
    "#Q-4:n Python, getters and setters are methods used to access and modify the \n",
    "#values of private or protected instance variables of a class.\n",
    "#They provide an interface to read and write the values of these \n",
    "#variables while maintaining control over the access and modification process.\n",
    "#Here's an example class that demonstrates the use of getters and setters:\n",
    "\n",
    "class Person:\n",
    "    def __init__(self, name, age):\n",
    "        self._name = name\n",
    "        self._age = age\n",
    "\n",
    "    # Getter method for name\n",
    "    def get_name(self):\n",
    "        return self._name\n",
    "\n",
    "    # Setter method for name\n",
    "    def set_name(self, name):\n",
    "        self._name = name\n",
    "\n",
    "    # Getter method for age\n",
    "    def get_age(self):\n",
    "        return self._age\n",
    "\n",
    "    # Setter method for age\n",
    "    def set_age(self, age):\n",
    "        if age >= 0:\n",
    "            self._age = age\n",
    "        else:\n",
    "            print(\"Invalid age value\")\n",
    "\n",
    "# Creating an instance of Person class\n",
    "person = Person(\"John\", 30)\n",
    "\n",
    "# Getting and printing the name using getter\n",
    "print(person.get_name())  # Output: John\n",
    "\n",
    "# Getting and printing the age using getter\n",
    "print(person.get_age())   # Output: 30\n",
    "\n",
    "# Setting a new name using setter\n",
    "person.set_name(\"Alice\")\n",
    "\n",
    "# Setting a new age using setter\n",
    "person.set_age(35)\n",
    "\n",
    "# Getting and printing the updated name using getter\n",
    "print(person.get_name())  # Output: Alice\n",
    "\n",
    "# Getting and printing the updated age using getter\n",
    "print(person.get_age())   # Output: 35\n",
    "\n",
    "\n"
   ]
  },
  {
   "cell_type": "code",
   "execution_count": null,
   "id": "ec030640-a8e6-42de-a9d8-9b804a2ce39d",
   "metadata": {},
   "outputs": [],
   "source": [
    "#Q-5:Method overriding is a concept in object-oriented programming where \n",
    "#a subclass provides its own implementation of a method that is already defined \n",
    "#in its superclass. The method in the subclass overrides the implementation of the \n",
    "#same method in the superclass, allowing the subclass to provide a specialized behavior\n",
    "#for that method. \n",
    "#Here's an example code that demonstrates method overriding in Python:\n",
    "class Animal:\n",
    "    def sound(self):\n",
    "        print(\"The animal makes a sound.\")\n",
    "\n",
    "class Dog(Animal):\n",
    "    def sound(self):\n",
    "        print(\"The dog barks.\")\n",
    "\n",
    "class Cat(Animal):\n",
    "    def sound(self):\n",
    "        print(\"The cat meows.\")\n",
    "\n",
    "# Creating instances of the classes\n",
    "animal = Animal()\n",
    "dog = Dog()\n",
    "cat = Cat()\n",
    "\n",
    "# Calling the sound method on each instance\n",
    "animal.sound()  # Output: The animal makes a sound.\n",
    "dog.sound()     # Output: The dog barks.\n",
    "cat.sound()     # Output: The cat meows.\n",
    "\n"
   ]
  }
 ],
 "metadata": {
  "kernelspec": {
   "display_name": "Python 3 (ipykernel)",
   "language": "python",
   "name": "python3"
  },
  "language_info": {
   "codemirror_mode": {
    "name": "ipython",
    "version": 3
   },
   "file_extension": ".py",
   "mimetype": "text/x-python",
   "name": "python",
   "nbconvert_exporter": "python",
   "pygments_lexer": "ipython3",
   "version": "3.10.8"
  }
 },
 "nbformat": 4,
 "nbformat_minor": 5
}
